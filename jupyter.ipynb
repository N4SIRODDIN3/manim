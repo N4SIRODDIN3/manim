{
 "cells": [
  {
   "cell_type": "code",
   "execution_count": 9,
   "metadata": {},
   "outputs": [],
   "source": [
    "from manim import *\n"
   ]
  },
  {
   "cell_type": "code",
   "execution_count": 4,
   "metadata": {},
   "outputs": [
    {
     "name": "stdout",
     "output_type": "stream",
     "text": [
      "Obtaining file:///C:/Manim_3_feb/manim_cairo\n",
      "Collecting argparse\n",
      "  Using cached argparse-1.4.0-py2.py3-none-any.whl (23 kB)\n",
      "Collecting colour\n",
      "  Using cached colour-0.1.5-py2.py3-none-any.whl (23 kB)\n",
      "Collecting numpy\n",
      "  Using cached numpy-1.21.4-cp38-cp38-win32.whl (11.7 MB)\n",
      "Collecting Pillow\n",
      "  Using cached Pillow-8.4.0-cp38-cp38-win32.whl (2.8 MB)\n",
      "Processing c:\\users\\nasr-\\appdata\\local\\pip\\cache\\wheels\\2c\\67\\ed\\d84123843c937d7e7f5ba88a270d11036473144143355e2747\\progressbar-2.5-py3-none-any.whl\n",
      "Collecting scipy\n",
      "  Using cached scipy-1.7.3-cp38-cp38-win32.whl (30.7 MB)\n",
      "Collecting tqdm\n",
      "  Using cached tqdm-4.62.3-py2.py3-none-any.whl (76 kB)\n",
      "Collecting opencv-python\n",
      "  Using cached opencv_python-4.5.4.60-cp38-cp38-win32.whl (25.9 MB)\n",
      "Collecting pycairo\n",
      "  Using cached pycairo-1.20.1-cp38-cp38-win32.whl (1.1 MB)\n",
      "Collecting pydub\n",
      "  Using cached pydub-0.25.1-py2.py3-none-any.whl (32 kB)\n",
      "Requirement already satisfied: pygments in c:\\manim_3_feb\\manim_ce\\env\\lib\\site-packages (from manimlib==0.2.0) (2.10.0)\n",
      "Processing c:\\users\\nasr-\\appdata\\local\\pip\\cache\\wheels\\0e\\6e\\9d\\402aa64e362e59c7032231a2e6942e647a6c12508d2c77fc4d\\pyreadline-2.1-py3-none-any.whl\n",
      "Requirement already satisfied: colorama; platform_system == \"Windows\" in c:\\manim_3_feb\\manim_ce\\env\\lib\\site-packages (from tqdm->manimlib==0.2.0) (0.4.4)\n",
      "Installing collected packages: argparse, colour, numpy, Pillow, progressbar, scipy, tqdm, opencv-python, pycairo, pydub, pyreadline, manimlib\n",
      "  Running setup.py develop for manimlib\n",
      "Successfully installed Pillow-8.4.0 argparse-1.4.0 colour-0.1.5 manimlib numpy-1.21.4 opencv-python-4.5.4.60 progressbar-2.5 pycairo-1.20.1 pydub-0.25.1 pyreadline-2.1 scipy-1.7.3 tqdm-4.62.3\n",
      "Note: you may need to restart the kernel to use updated packages.\n"
     ]
    },
    {
     "name": "stderr",
     "output_type": "stream",
     "text": [
      "WARNING: You are using pip version 20.1.1; however, version 21.3.1 is available.\n",
      "You should consider upgrading via the 'c:\\Manim_3_feb\\manim_ce\\env\\Scripts\\python.exe -m pip install --upgrade pip' command.\n",
      "ERROR: manimlib 0.2.0 requires argparse, which is not installed.\n",
      "ERROR: manimlib 0.2.0 requires colour, which is not installed.\n",
      "ERROR: manimlib 0.2.0 requires numpy, which is not installed.\n",
      "ERROR: manimlib 0.2.0 requires opencv-python, which is not installed.\n",
      "ERROR: manimlib 0.2.0 requires Pillow, which is not installed.\n",
      "ERROR: manimlib 0.2.0 requires progressbar, which is not installed.\n",
      "ERROR: manimlib 0.2.0 requires pycairo, which is not installed.\n",
      "ERROR: manimlib 0.2.0 requires pydub, which is not installed.\n",
      "ERROR: manimlib 0.2.0 requires pyreadline, which is not installed.\n",
      "ERROR: manimlib 0.2.0 requires scipy, which is not installed.\n",
      "ERROR: manimlib 0.2.0 requires tqdm, which is not installed.\n",
      "WARNING: You are using pip version 20.1.1; however, version 21.3.1 is available.\n",
      "You should consider upgrading via the 'c:\\Manim_3_feb\\manim_ce\\env\\Scripts\\python.exe -m pip install --upgrade pip' command.\n"
     ]
    },
    {
     "name": "stdout",
     "output_type": "stream",
     "text": [
      "Processing c:\\manim_3_feb\\manim_cairo\n",
      "Requirement already satisfied: argparse in c:\\manim_3_feb\\manim_ce\\env\\lib\\site-packages (from manimlib==0.2.0) (1.4.0)\n",
      "Requirement already satisfied: colour in c:\\manim_3_feb\\manim_ce\\env\\lib\\site-packages (from manimlib==0.2.0) (0.1.5)\n",
      "Requirement already satisfied: numpy in c:\\manim_3_feb\\manim_ce\\env\\lib\\site-packages (from manimlib==0.2.0) (1.21.4)\n",
      "Requirement already satisfied: Pillow in c:\\manim_3_feb\\manim_ce\\env\\lib\\site-packages (from manimlib==0.2.0) (8.4.0)\n",
      "Requirement already satisfied: progressbar in c:\\manim_3_feb\\manim_ce\\env\\lib\\site-packages (from manimlib==0.2.0) (2.5)\n",
      "Requirement already satisfied: scipy in c:\\manim_3_feb\\manim_ce\\env\\lib\\site-packages (from manimlib==0.2.0) (1.7.3)\n",
      "Requirement already satisfied: tqdm in c:\\manim_3_feb\\manim_ce\\env\\lib\\site-packages (from manimlib==0.2.0) (4.62.3)\n",
      "Requirement already satisfied: opencv-python in c:\\manim_3_feb\\manim_ce\\env\\lib\\site-packages (from manimlib==0.2.0) (4.5.4.60)\n",
      "Requirement already satisfied: pycairo in c:\\manim_3_feb\\manim_ce\\env\\lib\\site-packages (from manimlib==0.2.0) (1.20.1)\n",
      "Requirement already satisfied: pydub in c:\\manim_3_feb\\manim_ce\\env\\lib\\site-packages (from manimlib==0.2.0) (0.25.1)\n",
      "Requirement already satisfied: pygments in c:\\manim_3_feb\\manim_ce\\env\\lib\\site-packages (from manimlib==0.2.0) (2.10.0)\n",
      "Requirement already satisfied: pyreadline in c:\\manim_3_feb\\manim_ce\\env\\lib\\site-packages (from manimlib==0.2.0) (2.1)\n",
      "Requirement already satisfied: colorama; platform_system == \"Windows\" in c:\\manim_3_feb\\manim_ce\\env\\lib\\site-packages (from tqdm->manimlib==0.2.0) (0.4.4)\n",
      "Using legacy setup.py install for manimlib, since package 'wheel' is not installed.\n",
      "Installing collected packages: manimlib\n",
      "  Attempting uninstall: manimlib\n",
      "    Found existing installation: manimlib 0.2.0\n",
      "    Uninstalling manimlib-0.2.0:\n",
      "      Successfully uninstalled manimlib-0.2.0\n",
      "    Running setup.py install for manimlib: started\n",
      "    Running setup.py install for manimlib: finished with status 'done'\n",
      "Successfully installed manimlib-0.2.0\n"
     ]
    }
   ],
   "source": [
    "pip install -e ."
   ]
  }
 ],
 "metadata": {
  "interpreter": {
   "hash": "f85f3d9adf47400395959fa36a999ed747a281a709a3bd2c96a12989096cc713"
  },
  "kernelspec": {
   "display_name": "Python 3.8.5 32-bit ('env': venv)",
   "language": "python",
   "name": "python3"
  },
  "language_info": {
   "codemirror_mode": {
    "name": "ipython",
    "version": 3
   },
   "file_extension": ".py",
   "mimetype": "text/x-python",
   "name": "python",
   "nbconvert_exporter": "python",
   "pygments_lexer": "ipython3",
   "version": "3.8.5"
  },
  "orig_nbformat": 4
 },
 "nbformat": 4,
 "nbformat_minor": 2
}
