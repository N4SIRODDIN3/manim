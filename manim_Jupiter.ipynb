{
 "cells": [
  {
   "cell_type": "code",
   "execution_count": 6,
   "metadata": {},
   "outputs": [],
   "source": [
    "import jupyter_manim"
   ]
  },
  {
   "cell_type": "code",
   "execution_count": null,
   "metadata": {},
   "outputs": [],
   "source": [
    "pip install jupyter_manim"
   ]
  },
  {
   "cell_type": "code",
   "execution_count": null,
   "metadata": {},
   "outputs": [],
   "source": [
    "\n",
    "%%manim Shapes -pql \n",
    "from manimlib.scene.scene import Scene\n",
    "from manimlib.mobject.geometry import Circle\n",
    "from manimlib.animation.creation import ShowCreation\n",
    "\n",
    "class Shapes(Scene):\n",
    "\n",
    "    def construct(self):\n",
    "        circle = Circle()\n",
    "        self.play(ShowCreation(circle), run_time=3)"
   ]
  },
  {
   "cell_type": "code",
   "execution_count": 8,
   "metadata": {},
   "outputs": [],
   "source": [
    "from manim import *\n",
    "config.media_width = \"100%\""
   ]
  },
  {
   "cell_type": "code",
   "execution_count": 9,
   "metadata": {},
   "outputs": [
    {
     "name": "stdout",
     "output_type": "stream",
     "text": [
      "Media will be written to c:\\Manim_3_feb\\manim_ce\\media\\. You can change this behavior with the --media_dir flag.\n",
      "\n",
      "   There are no scenes inside that module\n",
      "\n",
      "\n"
     ]
    },
    {
     "name": "stderr",
     "output_type": "stream",
     "text": [
      "c:\\Manim_3_feb\\manim_ce\\env\\lib\\site-packages\\jupyter_manim\\__init__.py:297: UserWarning: Could not find path in the manim output\n",
      "  warn('Could not find path in the manim output')\n",
      "\n"
     ]
    }
   ],
   "source": [
    "\n",
    "%%manim Shapes -pql \n",
    "from manim import *\n",
    "\n",
    "class Shapes(Scene):\n",
    "\n",
    "    def construct(self):\n",
    "        circle = Circle()\n",
    "        self.play(DrawBorderThenFill(circle), run_time=3)"
   ]
  }
 ],
 "metadata": {
  "interpreter": {
   "hash": "b9a5af498ea592f925b17839d665c298c9e07e4082a2a701b0d4970808c493df"
  },
  "kernelspec": {
   "display_name": "Python 3.8.5 32-bit ('venv': venv)",
   "language": "python",
   "name": "python3"
  },
  "language_info": {
   "codemirror_mode": {
    "name": "ipython",
    "version": 3
   },
   "file_extension": ".py",
   "mimetype": "text/x-python",
   "name": "python",
   "nbconvert_exporter": "python",
   "pygments_lexer": "ipython3",
   "version": "3.8.5"
  },
  "orig_nbformat": 4
 },
 "nbformat": 4,
 "nbformat_minor": 2
}
